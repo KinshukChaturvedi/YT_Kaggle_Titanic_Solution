{
 "cells": [
  {
   "cell_type": "code",
   "execution_count": 1,
   "metadata": {},
   "outputs": [],
   "source": [
    "import pandas as pd"
   ]
  },
  {
   "cell_type": "code",
   "execution_count": 2,
   "metadata": {},
   "outputs": [
    {
     "data": {
      "text/html": [
       "<div>\n",
       "<style scoped>\n",
       "    .dataframe tbody tr th:only-of-type {\n",
       "        vertical-align: middle;\n",
       "    }\n",
       "\n",
       "    .dataframe tbody tr th {\n",
       "        vertical-align: top;\n",
       "    }\n",
       "\n",
       "    .dataframe thead th {\n",
       "        text-align: right;\n",
       "    }\n",
       "</style>\n",
       "<table border=\"1\" class=\"dataframe\">\n",
       "  <thead>\n",
       "    <tr style=\"text-align: right;\">\n",
       "      <th></th>\n",
       "      <th>PassengerId</th>\n",
       "      <th>Survived</th>\n",
       "      <th>Pclass</th>\n",
       "      <th>Fare_1</th>\n",
       "      <th>Age_1</th>\n",
       "      <th>Family</th>\n",
       "      <th>Sex_1</th>\n",
       "      <th>IsAlone</th>\n",
       "      <th>Title_Mr</th>\n",
       "      <th>Title_Mrs</th>\n",
       "      <th>...</th>\n",
       "      <th>Ticket_C</th>\n",
       "      <th>Ticket_LINE</th>\n",
       "      <th>Ticket_FCC</th>\n",
       "      <th>Ticket_SWPP</th>\n",
       "      <th>Ticket_PPP</th>\n",
       "      <th>Ticket_SC</th>\n",
       "      <th>Ticket_SCAH</th>\n",
       "      <th>Ticket_SOPP</th>\n",
       "      <th>Ticket_FC</th>\n",
       "      <th>Ticket_SOTONO2</th>\n",
       "    </tr>\n",
       "  </thead>\n",
       "  <tbody>\n",
       "    <tr>\n",
       "      <th>0</th>\n",
       "      <td>1</td>\n",
       "      <td>0</td>\n",
       "      <td>3</td>\n",
       "      <td>7.25</td>\n",
       "      <td>22.0</td>\n",
       "      <td>2</td>\n",
       "      <td>1</td>\n",
       "      <td>0</td>\n",
       "      <td>1</td>\n",
       "      <td>0</td>\n",
       "      <td>...</td>\n",
       "      <td>0</td>\n",
       "      <td>0</td>\n",
       "      <td>0</td>\n",
       "      <td>0</td>\n",
       "      <td>0</td>\n",
       "      <td>0</td>\n",
       "      <td>0</td>\n",
       "      <td>0</td>\n",
       "      <td>0</td>\n",
       "      <td>0</td>\n",
       "    </tr>\n",
       "  </tbody>\n",
       "</table>\n",
       "<p>1 rows × 46 columns</p>\n",
       "</div>"
      ],
      "text/plain": [
       "   PassengerId  Survived  Pclass  Fare_1  Age_1  Family  Sex_1  IsAlone  \\\n",
       "0            1         0       3    7.25   22.0       2      1        0   \n",
       "\n",
       "   Title_Mr  Title_Mrs  ...  Ticket_C   Ticket_LINE  Ticket_FCC   \\\n",
       "0         1          0  ...          0            0            0   \n",
       "\n",
       "   Ticket_SWPP   Ticket_PPP   Ticket_SC   Ticket_SCAH   Ticket_SOPP   \\\n",
       "0             0            0           0             0             0   \n",
       "\n",
       "   Ticket_FC   Ticket_SOTONO2   \n",
       "0           0                0  \n",
       "\n",
       "[1 rows x 46 columns]"
      ]
     },
     "execution_count": 2,
     "metadata": {},
     "output_type": "execute_result"
    }
   ],
   "source": [
    "train = pd.read_csv(\"excel_full_train.csv\")\n",
    "train.head(1)"
   ]
  },
  {
   "cell_type": "code",
   "execution_count": 3,
   "metadata": {},
   "outputs": [
    {
     "data": {
      "text/html": [
       "<div>\n",
       "<style scoped>\n",
       "    .dataframe tbody tr th:only-of-type {\n",
       "        vertical-align: middle;\n",
       "    }\n",
       "\n",
       "    .dataframe tbody tr th {\n",
       "        vertical-align: top;\n",
       "    }\n",
       "\n",
       "    .dataframe thead th {\n",
       "        text-align: right;\n",
       "    }\n",
       "</style>\n",
       "<table border=\"1\" class=\"dataframe\">\n",
       "  <thead>\n",
       "    <tr style=\"text-align: right;\">\n",
       "      <th></th>\n",
       "      <th>PassengerId</th>\n",
       "      <th>Pclass</th>\n",
       "      <th>Fare_1</th>\n",
       "      <th>Age_1</th>\n",
       "      <th>Family</th>\n",
       "      <th>Sex_1</th>\n",
       "      <th>IsAlone</th>\n",
       "      <th>Title_Mr</th>\n",
       "      <th>Title_Mrs</th>\n",
       "      <th>Title_Miss</th>\n",
       "      <th>...</th>\n",
       "      <th>Ticket_C</th>\n",
       "      <th>Ticket_LINE</th>\n",
       "      <th>Ticket_FCC</th>\n",
       "      <th>Ticket_SWPP</th>\n",
       "      <th>Ticket_PPP</th>\n",
       "      <th>Ticket_SC</th>\n",
       "      <th>Ticket_SCAH</th>\n",
       "      <th>Ticket_SOPP</th>\n",
       "      <th>Ticket_FC</th>\n",
       "      <th>Ticket_SOTONO2</th>\n",
       "    </tr>\n",
       "  </thead>\n",
       "  <tbody>\n",
       "    <tr>\n",
       "      <th>0</th>\n",
       "      <td>892</td>\n",
       "      <td>3</td>\n",
       "      <td>7.8292</td>\n",
       "      <td>34.5</td>\n",
       "      <td>1</td>\n",
       "      <td>1</td>\n",
       "      <td>1</td>\n",
       "      <td>1</td>\n",
       "      <td>0</td>\n",
       "      <td>0</td>\n",
       "      <td>...</td>\n",
       "      <td>0</td>\n",
       "      <td>0</td>\n",
       "      <td>0</td>\n",
       "      <td>0</td>\n",
       "      <td>0</td>\n",
       "      <td>0</td>\n",
       "      <td>0</td>\n",
       "      <td>0</td>\n",
       "      <td>0</td>\n",
       "      <td>0</td>\n",
       "    </tr>\n",
       "  </tbody>\n",
       "</table>\n",
       "<p>1 rows × 45 columns</p>\n",
       "</div>"
      ],
      "text/plain": [
       "   PassengerId  Pclass  Fare_1  Age_1  Family  Sex_1  IsAlone  Title_Mr  \\\n",
       "0          892       3  7.8292   34.5       1      1        1         1   \n",
       "\n",
       "   Title_Mrs  Title_Miss  ...  Ticket_C   Ticket_LINE  Ticket_FCC   \\\n",
       "0          0           0  ...          0            0            0   \n",
       "\n",
       "   Ticket_SWPP   Ticket_PPP   Ticket_SC   Ticket_SCAH   Ticket_SOPP   \\\n",
       "0             0            0           0             0             0   \n",
       "\n",
       "   Ticket_FC   Ticket_SOTONO2   \n",
       "0           0                0  \n",
       "\n",
       "[1 rows x 45 columns]"
      ]
     },
     "execution_count": 3,
     "metadata": {},
     "output_type": "execute_result"
    }
   ],
   "source": [
    "test = pd.read_csv(\"excel_test.csv\")\n",
    "test.head(1)"
   ]
  },
  {
   "cell_type": "code",
   "execution_count": 4,
   "metadata": {},
   "outputs": [],
   "source": [
    "X = train.drop(['PassengerId','Survived'], axis = 1)"
   ]
  },
  {
   "cell_type": "code",
   "execution_count": 5,
   "metadata": {},
   "outputs": [],
   "source": [
    "y = train['Survived']"
   ]
  },
  {
   "cell_type": "markdown",
   "metadata": {},
   "source": [
    "### Feature Selection"
   ]
  },
  {
   "cell_type": "code",
   "execution_count": 6,
   "metadata": {},
   "outputs": [],
   "source": [
    "from sklearn.feature_selection import SelectKBest\n",
    "from sklearn.feature_selection import chi2\n",
    "import numpy as np\n",
    "from sklearn.model_selection import train_test_split\n",
    "from sklearn.tree import DecisionTreeClassifier\n",
    "from sklearn.model_selection import GridSearchCV"
   ]
  },
  {
   "cell_type": "code",
   "execution_count": 38,
   "metadata": {},
   "outputs": [
    {
     "name": "stdout",
     "output_type": "stream",
     "text": [
      "Model with 10 -- Test : 0.825 | Train : 0.819\n",
      "Model with 11 -- Test : 0.821 | Train : 0.820\n",
      "Model with 12 -- Test : 0.821 | Train : 0.820\n",
      "Model with 13 -- Test : 0.821 | Train : 0.820\n",
      "Model with 14 -- Test : 0.821 | Train : 0.820\n",
      "Model with 15 -- Test : 0.821 | Train : 0.820\n",
      "Model with 16 -- Test : 0.821 | Train : 0.820\n",
      "Model with 17 -- Test : 0.821 | Train : 0.820\n",
      "Model with 18 -- Test : 0.821 | Train : 0.820\n",
      "Model with 19 -- Test : 0.821 | Train : 0.820\n",
      "Model with 20 -- Test : 0.821 | Train : 0.820\n",
      "Model with 21 -- Test : 0.821 | Train : 0.820\n",
      "Model with 22 -- Test : 0.821 | Train : 0.820\n",
      "Model with 23 -- Test : 0.825 | Train : 0.822\n",
      "Model with 24 -- Test : 0.825 | Train : 0.822\n",
      "Model with 25 -- Test : 0.825 | Train : 0.822\n",
      "Model with 26 -- Test : 0.825 | Train : 0.822\n",
      "Model with 27 -- Test : 0.825 | Train : 0.822\n",
      "Model with 28 -- Test : 0.825 | Train : 0.822\n",
      "Model with 29 -- Test : 0.825 | Train : 0.822\n",
      "Model with 30 -- Test : 0.825 | Train : 0.822\n",
      "Model with 31 -- Test : 0.825 | Train : 0.822\n",
      "Model with 32 -- Test : 0.825 | Train : 0.822\n",
      "Model with 33 -- Test : 0.825 | Train : 0.822\n",
      "Model with 34 -- Test : 0.825 | Train : 0.822\n",
      "Model with 35 -- Test : 0.825 | Train : 0.827\n",
      "Model with 36 -- Test : 0.825 | Train : 0.827\n",
      "Model with 37 -- Test : 0.825 | Train : 0.827\n",
      "Model with 38 -- Test : 0.825 | Train : 0.827\n",
      "Model with 39 -- Test : 0.825 | Train : 0.827\n",
      "Model with 40 -- Test : 0.825 | Train : 0.827\n",
      "Model with 41 -- Test : 0.825 | Train : 0.827\n",
      "Model with 42 -- Test : 0.825 | Train : 0.827\n",
      "Model with 43 -- Test : 0.825 | Train : 0.827\n"
     ]
    }
   ],
   "source": [
    "for i in range (10,44):\n",
    "    sel_Feat = SelectKBest(chi2, k=i).fit(X, y)\n",
    "    sel_Bool = sel_Feat.get_support()\n",
    "    X_sel = X[X.columns[sel_Bool]]\n",
    "    #### Use Test Train Split to divide into train and test\n",
    "    X_train, X_test, y_train, y_test = train_test_split(X_sel, y, test_size=0.30, random_state=21)\n",
    "    treeModel = DecisionTreeClassifier(class_weight=None, criterion='entropy', max_depth=3,\n",
    "                           max_features=None, max_leaf_nodes=None,\n",
    "                           min_impurity_decrease=0.0, min_impurity_split=None,\n",
    "                           min_samples_leaf=1, min_samples_split=2,\n",
    "                           min_weight_fraction_leaf=0.0, presort=False,\n",
    "                           random_state=None, splitter='best')\n",
    "    treeModel.fit(X_train, y_train)\n",
    "\n",
    "    print(f'Model with {i} -- Test : {treeModel.score(X_test, y_test):.3f} | Train : {treeModel.score(X_train, y_train):.3f}')"
   ]
  },
  {
   "cell_type": "markdown",
   "metadata": {},
   "source": [
    "### Grid Search"
   ]
  },
  {
   "cell_type": "code",
   "execution_count": 45,
   "metadata": {},
   "outputs": [
    {
     "name": "stdout",
     "output_type": "stream",
     "text": [
      "Model with 10 -- Test : 0.825 | Train : 0.819\n",
      "Model with 11 -- Test : 0.821 | Train : 0.820\n",
      "Model with 12 -- Test : 0.821 | Train : 0.820\n",
      "Model with 13 -- Test : 0.821 | Train : 0.820\n",
      "Model with 14 -- Test : 0.821 | Train : 0.820\n",
      "Model with 15 -- Test : 0.821 | Train : 0.820\n",
      "Model with 16 -- Test : 0.821 | Train : 0.820\n",
      "Model with 17 -- Test : 0.821 | Train : 0.820\n",
      "Model with 18 -- Test : 0.821 | Train : 0.820\n",
      "Model with 19 -- Test : 0.821 | Train : 0.820\n",
      "Model with 20 -- Test : 0.821 | Train : 0.820\n",
      "Model with 21 -- Test : 0.821 | Train : 0.820\n",
      "Model with 22 -- Test : 0.821 | Train : 0.820\n",
      "Model with 23 -- Test : 0.817 | Train : 0.852\n",
      "Model with 24 -- Test : 0.825 | Train : 0.822\n",
      "Model with 25 -- Test : 0.817 | Train : 0.852\n",
      "Model with 26 -- Test : 0.817 | Train : 0.852\n",
      "Model with 27 -- Test : 0.817 | Train : 0.852\n",
      "Model with 28 -- Test : 0.817 | Train : 0.852\n",
      "Model with 29 -- Test : 0.825 | Train : 0.822\n",
      "Model with 30 -- Test : 0.817 | Train : 0.852\n",
      "Model with 31 -- Test : 0.817 | Train : 0.852\n",
      "Model with 32 -- Test : 0.817 | Train : 0.852\n",
      "Model with 33 -- Test : 0.817 | Train : 0.852\n",
      "Model with 34 -- Test : 0.817 | Train : 0.852\n",
      "Model with 35 -- Test : 0.810 | Train : 0.859\n",
      "Model with 36 -- Test : 0.810 | Train : 0.859\n",
      "Model with 37 -- Test : 0.810 | Train : 0.859\n",
      "Model with 38 -- Test : 0.810 | Train : 0.859\n",
      "Model with 39 -- Test : 0.810 | Train : 0.859\n",
      "Model with 40 -- Test : 0.810 | Train : 0.859\n",
      "Model with 41 -- Test : 0.810 | Train : 0.862\n",
      "Model with 42 -- Test : 0.810 | Train : 0.862\n",
      "Model with 43 -- Test : 0.825 | Train : 0.827\n"
     ]
    }
   ],
   "source": [
    "parameters = {'criterion' : ('gini', 'entropy')\n",
    "              , 'max_depth' : (3,4,5,6,7,8,9,10)\n",
    "             }\n",
    "\n",
    "for i in range (10,44):\n",
    "    sel_Feat = SelectKBest(chi2, k=i).fit(X, y)\n",
    "    sel_Bool = sel_Feat.get_support()\n",
    "    X_sel = X[X.columns[sel_Bool]]\n",
    "    #### Use Test Train Split to divide into train and test\n",
    "    X_train, X_test, y_train, y_test = train_test_split(X_sel, y, test_size=0.30, random_state=21)\n",
    "    DT_grid  = GridSearchCV(DecisionTreeClassifier(), param_grid = parameters, cv = 3)\n",
    "    DT_grid_model = DT_grid.fit(X_train, y_train)\n",
    "\n",
    "    print(f'Model with {i} -- Test : {DT_grid_model.score(X_test, y_test):.3f} | Train : {DT_grid_model.score(X_train, y_train):.3f}')"
   ]
  },
  {
   "cell_type": "markdown",
   "metadata": {},
   "source": [
    "### Prediction of Test"
   ]
  },
  {
   "cell_type": "code",
   "execution_count": 30,
   "metadata": {},
   "outputs": [],
   "source": [
    "sub_test = test.drop(['PassengerId'], axis = 1)"
   ]
  },
  {
   "cell_type": "code",
   "execution_count": 31,
   "metadata": {},
   "outputs": [],
   "source": [
    "sub_test_sel = sub_test[X.columns[sel_Bool]]"
   ]
  },
  {
   "cell_type": "code",
   "execution_count": 32,
   "metadata": {},
   "outputs": [],
   "source": [
    "sub_test_pred = treeModel.predict(sub_test_sel).astype(int)"
   ]
  },
  {
   "cell_type": "code",
   "execution_count": 33,
   "metadata": {},
   "outputs": [],
   "source": [
    "AllSub = pd.DataFrame({ 'PassengerId': test['PassengerId'],\n",
    "                       'Survived' : sub_test_pred\n",
    "    \n",
    "})\n",
    "\n",
    "AllSub.to_csv(\"All_Var_Video_DT_grid_sel_feat_30.csv\", index = False)"
   ]
  },
  {
   "cell_type": "code",
   "execution_count": null,
   "metadata": {},
   "outputs": [],
   "source": []
  }
 ],
 "metadata": {
  "kernelspec": {
   "display_name": "Python 3",
   "language": "python",
   "name": "python3"
  },
  "language_info": {
   "codemirror_mode": {
    "name": "ipython",
    "version": 3
   },
   "file_extension": ".py",
   "mimetype": "text/x-python",
   "name": "python",
   "nbconvert_exporter": "python",
   "pygments_lexer": "ipython3",
   "version": "3.7.3"
  }
 },
 "nbformat": 4,
 "nbformat_minor": 2
}
